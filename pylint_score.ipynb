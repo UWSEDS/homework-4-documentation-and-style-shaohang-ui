{
 "cells": [
  {
   "cell_type": "code",
   "execution_count": 1,
   "metadata": {},
   "outputs": [
    {
     "name": "stdout",
     "output_type": "stream",
     "text": [
      "************* Module Modfy_test_dataframe\n",
      "Modfy_test_dataframe.py:1:0: C0103: Module name \"Modfy_test_dataframe\" doesn't conform to snake_case naming style (invalid-name)\n",
      "Modfy_test_dataframe.py:6:19: W0621: Redefining name 'DATAFRAME' from outer scope (line 4) (redefined-outer-name)\n",
      "Modfy_test_dataframe.py:6:0: C0103: Argument name \"DATAFRAME\" doesn't conform to snake_case naming style (invalid-name)\n",
      "\n",
      "-----------------------------------\n",
      "Your code has been rated at 8.70/10\n",
      "\n",
      "8.695652173913043\n"
     ]
    }
   ],
   "source": [
    "from pylint.lint import Run\n",
    "results = Run(['Modfy_test_dataframe.py'], do_exit=False)\n",
    "print(results.linter.stats['global_note'])"
   ]
  },
  {
   "cell_type": "code",
   "execution_count": null,
   "metadata": {},
   "outputs": [],
   "source": []
  }
 ],
 "metadata": {
  "kernelspec": {
   "display_name": "Python 3",
   "language": "python",
   "name": "python3"
  },
  "language_info": {
   "codemirror_mode": {
    "name": "ipython",
    "version": 3
   },
   "file_extension": ".py",
   "mimetype": "text/x-python",
   "name": "python",
   "nbconvert_exporter": "python",
   "pygments_lexer": "ipython3",
   "version": "3.7.3"
  }
 },
 "nbformat": 4,
 "nbformat_minor": 2
}
